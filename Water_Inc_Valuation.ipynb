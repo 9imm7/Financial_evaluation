{
  "nbformat": 4,
  "nbformat_minor": 0,
  "metadata": {
    "colab": {
      "provenance": []
    },
    "kernelspec": {
      "name": "python3",
      "display_name": "Python 3"
    },
    "language_info": {
      "name": "python"
    }
  },
  "cells": [
    {
      "cell_type": "markdown",
      "source": [
        "#Identifing the availabe information"
      ],
      "metadata": {
        "id": "zbiUyi0A6sjF"
      }
    },
    {
      "cell_type": "code",
      "execution_count": 26,
      "metadata": {
        "colab": {
          "base_uri": "https://localhost:8080/"
        },
        "id": "0dz7pPps47db",
        "outputId": "7c35255c-49d7-4b57-b5b0-250cf0d3405d"
      },
      "outputs": [
        {
          "output_type": "stream",
          "name": "stdout",
          "text": [
            "Financial Information:\n",
            "Annual Revenues (2022): $500000000\n",
            "Net Income Margin: 15.0%\n",
            "Debt on Balance Sheet (end of 2022): $500000000\n",
            "Target Debt-to-Equity Ratio: 1\n",
            "Dividend Payout Ratio: 70.0%\n",
            "\n",
            "Market and Risk Information:\n",
            "Risk-Free Rate: 4.0%\n",
            "Equity Risk Premium: 7.000000000000001%\n",
            "Beta: 0.8\n"
          ]
        }
      ],
      "source": [
        "# Financial Information\n",
        "annual_revenues_2022 = 500_000_000\n",
        "net_income_margin = 0.15\n",
        "debt_end_of_2022 = 500_000_000\n",
        "target_debt_to_equity_ratio = 1\n",
        "dividend_payout_ratio = 0.70\n",
        "\n",
        "# Market and Risk Information\n",
        "risk_free_rate = 0.04\n",
        "equity_risk_premium = 0.07\n",
        "beta = 0.8\n",
        "\n",
        "# Printing the information\n",
        "print(\"Financial Information:\")\n",
        "print(f\"Annual Revenues (2022): ${annual_revenues_2022}\")\n",
        "print(f\"Net Income Margin: {net_income_margin * 100}%\")\n",
        "print(f\"Debt on Balance Sheet (end of 2022): ${debt_end_of_2022}\")\n",
        "print(f\"Target Debt-to-Equity Ratio: {target_debt_to_equity_ratio}\")\n",
        "print(f\"Dividend Payout Ratio: {dividend_payout_ratio * 100}%\\n\")\n",
        "\n",
        "print(\"Market and Risk Information:\")\n",
        "print(f\"Risk-Free Rate: {risk_free_rate * 100}%\")\n",
        "print(f\"Equity Risk Premium: {equity_risk_premium * 100}%\")\n",
        "print(f\"Beta: {beta}\")\n"
      ]
    },
    {
      "cell_type": "markdown",
      "source": [
        "#Inferring some relevant information\n",
        "#1) The equity of Water Inc.:\n",
        "- Given that the target debt-to-equity ratio is 1, we can assume the total debt is equal to the equity.\n",
        "- Therefore: Equity = $500 million\n",
        "\n",
        "#2)Determine the cost of equity using the Capital Asset Pricing Model\n",
        "- Cost of Equity = Risk-Free Rate + Beta * Equity Risk Premium\n",
        "- Risk-Free Rate = 4%\n",
        "- Equity Risk Premium = 7%\n",
        "- Beta = 0.8\n",
        "- Cost of Equity = 4% + 0.8 * 7% = 9.6%\n",
        "\n",
        "#3) Calculate the weighted average cost of capital (WACC):\n",
        "- WACC = (Equity / Total Capital) * Cost of Equity + (Debt / Total Capital) * Cost of Debt\n",
        "- There is no information given about the cost of debt so we'll use the risk-free rate as a proxy for the cost of debt hence Cost of D\\ebt = Risk-Free Rate = 4%\n",
        "- Total Liabilities = Equity + Debt = 500 million + 500 million = 1 billion\n",
        "- WACC = (500 million / 1 billion) * 9.6% + (500 million / 1 billion) * 4% = 6.8%\n",
        "\n",
        "#4) Calculating the net income and Dividends:\n",
        "- Net Income = Net Income Margin * Revenues = 15% * 500 million = 75 million\n",
        "- Dividends = Dividend Payout Ratio * Net Income = 70% * 75 million = 52.5 million"
      ],
      "metadata": {
        "id": "j9M__4c88Gwv"
      }
    },
    {
      "cell_type": "code",
      "source": [
        "# Financial Information\n",
        "equity = 500_000_000\n",
        "total_liabilities = equity + debt_end_of_2022\n",
        "net_income = net_income_margin * annual_revenues_2022\n",
        "dividends = dividend_payout_ratio * net_income\n",
        "\n",
        "# Market and Risk Information\n",
        "cost_of_debt = risk_free_rate\n",
        "cost_of_equity = risk_free_rate + beta * equity_risk_premium\n",
        "wacc = (equity / total_liabilities) * cost_of_equity + (debt_end_of_2022 / total_liabilities) * cost_of_debt\n",
        "\n",
        "# Printing additional information\n",
        "print(\"Financial Information:\")\n",
        "print(f\"Equity: ${equity}\")\n",
        "print(f\"Total Liabilities: ${total_liabilities}\")\n",
        "print(f\"Net Income: ${net_income}\")\n",
        "print(f\"Dividends: ${dividends}\\n\")\n",
        "\n",
        "\n",
        "print(\"Market and Risk Information:\")\n",
        "print(f\"Cost of Debt: {cost_of_debt * 100}%\")\n",
        "print(f\"Cost of Equity: {cost_of_equity * 100}%\")\n",
        "print(f\"WACC: {wacc * 100}%\")"
      ],
      "metadata": {
        "colab": {
          "base_uri": "https://localhost:8080/"
        },
        "id": "oUcUDkO1F8mc",
        "outputId": "cb81d446-6feb-4491-9e3d-b0f36992a59e"
      },
      "execution_count": 27,
      "outputs": [
        {
          "output_type": "stream",
          "name": "stdout",
          "text": [
            "Financial Information:\n",
            "Equity: $500000000\n",
            "Total Liabilities: $1000000000\n",
            "Net Income: $75000000.0\n",
            "Dividends: $52500000.0\n",
            "\n",
            "Market and Risk Information:\n",
            "Cost of Debt: 4.0%\n",
            "Cost of Equity: 9.6%\n",
            "WACC: 6.800000000000001%\n"
          ]
        }
      ]
    },
    {
      "cell_type": "code",
      "source": [
        "print(\"Financial Information:\")\n",
        "print(f\"Annual Revenues (2022): ${annual_revenues_2022}\")\n",
        "print(f\"Net Income Margin: {net_income_margin * 100}%\")\n",
        "print(f\"Debt on Balance Sheet (end of 2022): ${debt_end_of_2022}\")\n",
        "print(f\"Target Debt-to-Equity Ratio: {target_debt_to_equity_ratio}\")\n",
        "print(f\"Dividend Payout Ratio: {dividend_payout_ratio * 100}%\")\n",
        "print(f\"Equity: ${equity}\")\n",
        "print(f\"Total Liabilities: ${total_liabilities}\")\n",
        "print(f\"Net Income: ${net_income}\")\n",
        "print(f\"Dividends: ${dividends}\\n\")\n",
        "\n",
        "print(\"Market and Risk Information:\")\n",
        "print(f\"Risk-Free Rate: {risk_free_rate * 100}%\")\n",
        "print(f\"Equity Risk Premium: {equity_risk_premium * 100}%\")\n",
        "print(f\"Beta: {beta}\")\n",
        "print(f\"Cost of Debt: {cost_of_debt * 100}%\")\n",
        "print(f\"Cost of Equity: {cost_of_equity * 100}%\")\n",
        "print(f\"WACC: {wacc * 100}%\")"
      ],
      "metadata": {
        "colab": {
          "base_uri": "https://localhost:8080/"
        },
        "id": "s-GQIS2DLH0E",
        "outputId": "dabcfd7a-a95f-4c4f-9c82-9e67346b977a"
      },
      "execution_count": 28,
      "outputs": [
        {
          "output_type": "stream",
          "name": "stdout",
          "text": [
            "Financial Information:\n",
            "Annual Revenues (2022): $500000000\n",
            "Net Income Margin: 15.0%\n",
            "Debt on Balance Sheet (end of 2022): $500000000\n",
            "Target Debt-to-Equity Ratio: 1\n",
            "Dividend Payout Ratio: 70.0%\n",
            "Equity: $500000000\n",
            "Total Liabilities: $1000000000\n",
            "Net Income: $75000000.0\n",
            "Dividends: $52500000.0\n",
            "\n",
            "Market and Risk Information:\n",
            "Risk-Free Rate: 4.0%\n",
            "Equity Risk Premium: 7.000000000000001%\n",
            "Beta: 0.8\n",
            "Cost of Debt: 4.0%\n",
            "Cost of Equity: 9.6%\n",
            "WACC: 6.800000000000001%\n"
          ]
        }
      ]
    },
    {
      "cell_type": "markdown",
      "source": [
        "#Step 1 : Building a valuation model for Water Inc.\n",
        "We can use the discounted cash flow (DCF) approach. This involves estimating the company's future cash flows, discounting them to their present value, and calculating the intrinsic value of the company.  \n",
        "One important variable to consider is the projected revenue growth rate. This variable is significant because it directly impacts the company's net income and ultimately its valuation.\n",
        "#Assumptions:\n",
        "- Free Cash Flow to Equity = Net Income\n",
        "- Revenue Growth Rate = 5%\n",
        "- Long term growth rate = 3%\n",
        "- Holding period = 6 years"
      ],
      "metadata": {
        "id": "xp2xzH-M5Am5"
      }
    },
    {
      "cell_type": "markdown",
      "source": [
        "Now we are going to compute the vector of FCFE and the Terminal value"
      ],
      "metadata": {
        "id": "Bv_iyHblOc5n"
      }
    },
    {
      "cell_type": "code",
      "source": [
        "# Assumptions\n",
        "revenue_growth_rate = 0.05\n",
        "years = range(2023, 2029)  # Assuming a 6-year projection\n",
        "long_term_growth_rate = 0.03\n",
        "\n",
        "# Calculate FCFE for each year\n",
        "fcfe_values = []\n",
        "for year in years:\n",
        "    revenue = revenue_2022 * (1 + revenue_growth_rate)**(year - 2022)\n",
        "    fcfe = revenue * net_income_margin\n",
        "    fcfe_values.append(fcfe)\n",
        "\n",
        "# Print the resulting FCFE values\n",
        "for year, fcfe in zip(years, fcfe_values):\n",
        "    print(f\"Year {year}: FCFE = {fcfe}\")\n",
        "\n",
        "# Calculate Terminal Value\n",
        "fcfe_last_year =fcfe_values[-1]\n",
        "terminal_value = fcfe_last_year * (1 + long_term_growth_rate) / (wacc - long_term_growth_rate)\n",
        "\n",
        "print(\"Terminal Value:\", terminal_value)\n",
        "\n",
        "\n",
        "# Calculate the present value of FCFE\n",
        "present_value_fcfe = []\n",
        "for year, fcfe in enumerate(fcfe_values, start=1):\n",
        "    present_value = fcfe / (1 + wacc)**year\n",
        "    present_value_fcfe.append(present_value)\n",
        "sum_present_value_fcfe = sum(present_value_fcfe)\n",
        "\n",
        "# Calculate the present value of the terminal value\n",
        "present_value_terminal_value = terminal_value / (1 + wacc)**len(fcfe_values)\n",
        "\n",
        "# Calculate the fair value of the firm\n",
        "fair_value_Water_inc= sum_present_value_fcfe + present_value_terminal_value\n",
        "print(\"Sum of Present Value of FCFE:\", sum_present_value_fcfe)\n",
        "print(\"Present Value of Terminal Value:\", present_value_terminal_value)\n",
        "print(\"Fair value of Water Inc. :\", fair_value_Water_inc)\n",
        "\n"
      ],
      "metadata": {
        "colab": {
          "base_uri": "https://localhost:8080/"
        },
        "id": "rOgwym3UOLT2",
        "outputId": "9ce1db09-da39-45ca-8d37-d00e69672b6f"
      },
      "execution_count": 29,
      "outputs": [
        {
          "output_type": "stream",
          "name": "stdout",
          "text": [
            "Year 2023: FCFE = 78750000.0\n",
            "Year 2024: FCFE = 82687500.0\n",
            "Year 2025: FCFE = 86821875.00000001\n",
            "Year 2026: FCFE = 91162968.75000001\n",
            "Year 2027: FCFE = 95721117.18750001\n",
            "Year 2028: FCFE = 100507173.04687503\n",
            "Terminal Value: 2724273374.6916122\n",
            "Sum of Present Value of FCFE: 424188259.99737173\n",
            "Present Value of Terminal Value: 1835790718.286935\n",
            "Fair value of Water Inc. : 2259978978.284307\n"
          ]
        }
      ]
    },
    {
      "cell_type": "markdown",
      "source": [
        "In addition to the DCF method, there are several other tools and methods can be used to assess the opportunity to invest in Water Inc. Performing an industry analysis could be a good way go get a deeper understanding of the drivers of the value of Water Inc.\n",
        "# Setps involved into an Industry Analysis\n",
        "- 1) Identifying the industry\n",
        "- 2) Identifying a representative sample of the industry\n",
        "- 3) Identifying products/services and markets\n",
        "- 4) Identifying the business model\n",
        "- 5) Identifying the inputs used in the production process\n",
        "- 6) Identifying the technologies\n",
        "- 7) Interconnected industries\n",
        "- 8) Studying the financials\n",
        "- 9) Conclusions\n"
      ],
      "metadata": {
        "id": "KwJPQMgWaKZD"
      }
    }
  ]
}